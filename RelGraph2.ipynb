{
 "cells": [
  {
   "cell_type": "code",
   "execution_count": 2,
   "metadata": {},
   "outputs": [
    {
     "name": "stderr",
     "output_type": "stream",
     "text": [
      "Using backend: pytorch\n"
     ]
    }
   ],
   "source": [
    "import dgl\n",
    "from dgl import nn as gnn\n",
    "import dgl.function as gf\n",
    "\n",
    "import torch\n",
    "import torch.nn as nn\n",
    "import torch.nn.functional as F\n",
    "\n",
    "import numpy as np\n",
    "import scipy"
   ]
  },
  {
   "cell_type": "markdown",
   "metadata": {},
   "source": [
    "# Manipulate features in heto graph"
   ]
  },
  {
   "cell_type": "code",
   "execution_count": 3,
   "metadata": {},
   "outputs": [
    {
     "data": {
      "text/plain": [
       "dict_keys([('drug', 'interacts', 'drug'), ('drug', 'interacts', 'gene'), ('drug', 'treats', 'disease')])"
      ]
     },
     "execution_count": 3,
     "metadata": {},
     "output_type": "execute_result"
    }
   ],
   "source": [
    "data = {('drug', 'interacts', 'drug'): (torch.LongTensor([0, 1]), torch.LongTensor([1, 2])), \n",
    "        ('drug', 'interacts', 'gene'):(torch.LongTensor([0, 1]), torch.LongTensor([2, 3])), \n",
    "        ('drug', 'treats', 'disease'): (torch.LongTensor([0]), torch.LongTensor([2]))}\n",
    "data.keys()"
   ]
  },
  {
   "cell_type": "code",
   "execution_count": 4,
   "metadata": {},
   "outputs": [
    {
     "data": {
      "text/plain": [
       "Graph(num_nodes={'disease': 3, 'drug': 3, 'gene': 4},\n",
       "      num_edges={('drug', 'interacts', 'drug'): 2, ('drug', 'interacts', 'gene'): 2, ('drug', 'treats', 'disease'): 1},\n",
       "      metagraph=[('drug', 'drug', 'interacts'), ('drug', 'gene', 'interacts'), ('drug', 'disease', 'treats')])"
      ]
     },
     "execution_count": 4,
     "metadata": {},
     "output_type": "execute_result"
    }
   ],
   "source": [
    "g = dgl.heterograph(data)\n",
    "g"
   ]
  },
  {
   "cell_type": "code",
   "execution_count": 5,
   "metadata": {},
   "outputs": [
    {
     "data": {
      "text/plain": [
       "(['disease', 'drug', 'gene'],\n",
       " ['interacts', 'interacts', 'treats'],\n",
       " [('drug', 'interacts', 'drug'),\n",
       "  ('drug', 'interacts', 'gene'),\n",
       "  ('drug', 'treats', 'disease')])"
      ]
     },
     "execution_count": 5,
     "metadata": {},
     "output_type": "execute_result"
    }
   ],
   "source": [
    "g.ntypes, g.etypes, g.canonical_etypes"
   ]
  },
  {
   "cell_type": "code",
   "execution_count": 6,
   "metadata": {},
   "outputs": [
    {
     "data": {
      "text/plain": [
       "({'disease': {}, 'drug': {}, 'gene': {}},\n",
       " {('drug', 'interacts', 'drug'): {}, ('drug', 'interacts', 'gene'): {}, ('drug', 'treats', 'disease'): {}})"
      ]
     },
     "execution_count": 6,
     "metadata": {},
     "output_type": "execute_result"
    }
   ],
   "source": [
    "g.ndata, g.edata"
   ]
  },
  {
   "cell_type": "code",
   "execution_count": 7,
   "metadata": {},
   "outputs": [],
   "source": [
    "### update with ntype-> feature name\n",
    "g.nodes['drug'].data['a'] = torch.tensor([2., 3, 5])\n",
    "g.nodes['drug'].data.update({'a': torch.tensor([2., 3, 5])})"
   ]
  },
  {
   "cell_type": "code",
   "execution_count": 8,
   "metadata": {},
   "outputs": [
    {
     "data": {
      "text/plain": [
       "{'a': tensor([2., 3., 5.])}"
      ]
     },
     "execution_count": 8,
     "metadata": {},
     "output_type": "execute_result"
    }
   ],
   "source": [
    "g.nodes['drug'].data"
   ]
  },
  {
   "cell_type": "code",
   "execution_count": 9,
   "metadata": {},
   "outputs": [
    {
     "data": {
      "text/plain": [
       "{}"
      ]
     },
     "execution_count": 9,
     "metadata": {},
     "output_type": "execute_result"
    }
   ],
   "source": [
    "### cant be used to view nodes' feature. has to view feature-> nodes\n",
    "g.ndata['drug']"
   ]
  },
  {
   "cell_type": "code",
   "execution_count": 10,
   "metadata": {},
   "outputs": [],
   "source": [
    "### update with feature name -> node type\n",
    "g.ndata['h'] = {'drug': torch.zeros(3, 2)}\n",
    "g.ndata['h'] = {'gene': torch.ones(4, 2)}"
   ]
  },
  {
   "cell_type": "code",
   "execution_count": 11,
   "metadata": {},
   "outputs": [
    {
     "name": "stdout",
     "output_type": "stream",
     "text": [
      "tensor([[0., 0.],\n",
      "        [0., 0.],\n",
      "        [0., 0.]])\n",
      "tensor([2., 3., 5.])\n"
     ]
    }
   ],
   "source": [
    "##accessing feature name -> node type\n",
    "print(g.ndata['h']['drug'])\n",
    "print(g.ndata['a']['drug'])"
   ]
  },
  {
   "cell_type": "code",
   "execution_count": 12,
   "metadata": {
    "scrolled": true
   },
   "outputs": [
    {
     "name": "stdout",
     "output_type": "stream",
     "text": [
      "tensor([[0., 0.],\n",
      "        [0., 0.],\n",
      "        [0., 0.]])\n",
      "tensor([2., 3., 5.])\n"
     ]
    },
    {
     "data": {
      "text/plain": [
       "dgl.view.NodeSpace"
      ]
     },
     "execution_count": 12,
     "metadata": {},
     "output_type": "execute_result"
    }
   ],
   "source": [
    "### accessing nodes type -> feature name\n",
    "print(g.nodes['drug'].data['h'])\n",
    "print(g.nodes['drug'].data['a'])\n",
    "type(g.nodes['drug'])"
   ]
  },
  {
   "cell_type": "code",
   "execution_count": 13,
   "metadata": {
    "scrolled": true
   },
   "outputs": [
    {
     "data": {
      "text/plain": [
       "tensor([0, 1, 2])"
      ]
     },
     "execution_count": 13,
     "metadata": {},
     "output_type": "execute_result"
    }
   ],
   "source": [
    "## get nodes id\n",
    "g.nodes('drug')"
   ]
  },
  {
   "cell_type": "code",
   "execution_count": 14,
   "metadata": {
    "scrolled": true
   },
   "outputs": [
    {
     "data": {
      "text/plain": [
       "[('drug', 'interacts', 'drug'),\n",
       " ('drug', 'interacts', 'gene'),\n",
       " ('drug', 'treats', 'disease')]"
      ]
     },
     "execution_count": 14,
     "metadata": {},
     "output_type": "execute_result"
    }
   ],
   "source": [
    "g.canonical_etypes"
   ]
  },
  {
   "cell_type": "code",
   "execution_count": 15,
   "metadata": {},
   "outputs": [],
   "source": [
    "#### SUBGRAPH BY EDGE TYPE\n",
    "eg = dgl.edge_type_subgraph(g, g.canonical_etypes[:2])"
   ]
  },
  {
   "cell_type": "code",
   "execution_count": 16,
   "metadata": {},
   "outputs": [
    {
     "data": {
      "text/plain": [
       "Graph(num_nodes={'drug': 3, 'gene': 4},\n",
       "      num_edges={('drug', 'interacts', 'drug'): 2, ('drug', 'interacts', 'gene'): 2},\n",
       "      metagraph=[('drug', 'drug', 'interacts'), ('drug', 'gene', 'interacts')])"
      ]
     },
     "execution_count": 16,
     "metadata": {},
     "output_type": "execute_result"
    }
   ],
   "source": [
    "eg"
   ]
  },
  {
   "cell_type": "markdown",
   "metadata": {},
   "source": [
    "# Synthetic dataset "
   ]
  },
  {
   "cell_type": "code",
   "execution_count": 17,
   "metadata": {},
   "outputs": [],
   "source": [
    "n_users = 1000\n",
    "n_items = 3000\n",
    "n_follows = 5000\n",
    "n_clicks = 7000\n",
    "n_dislike = 10000\n",
    "\n",
    "user_feat_dim = 20\n",
    "item_feat_dim = 30\n",
    "click_feat_dim = 25\n",
    "follow_feat_dim = 45\n",
    "dislike_feat_dim = 55\n",
    "\n",
    "\n",
    "src_follow = torch.randint(0, n_users, (n_follows,))\n",
    "dst_follow = torch.randint(0, n_users, (n_follows,))\n",
    "src_click = torch.randint(0, n_users, (n_clicks,))\n",
    "dst_click = torch.randint(0, n_items, (n_clicks,))\n",
    "src_dislike = torch.randint(0, n_users, (n_dislike,))\n",
    "dst_dislike = torch.randint(0, n_items, (n_dislike,))\n",
    "\n",
    "#### this kind of graph init in hetero is sooo horrible\n",
    "\n",
    "data = {('user', 'follow', 'user'): (src_follow, dst_follow),\n",
    "        ('user', 'click', 'item'): (src_click, dst_click),\n",
    "        ('user', 'dislike', 'item'): (src_dislike, dst_dislike),\n",
    "        ('user', 'followed_by', 'user'): (dst_follow, src_follow),\n",
    "        ('item', 'clicked_by', 'user'): (dst_click, src_click),\n",
    "        ('item', 'disliked_by', 'user'): (dst_dislike, src_dislike)}\n",
    "\n",
    "g = dgl.heterograph(data)"
   ]
  },
  {
   "cell_type": "code",
   "execution_count": 18,
   "metadata": {},
   "outputs": [],
   "source": [
    "####CREATE FEATURES FOR NODES AND EDGES\n",
    "def random_feats(name, dim, node = True):\n",
    "    if node:\n",
    "        g.nodes[name].data['feats'] = nn.Parameter(torch.randn(g.num_nodes(name), dim))\n",
    "    else:\n",
    "        g.edges[name].data['feats'] = nn.Parameter(torch.randn(g.num_edges(name), dim))\n",
    "\n",
    "## ? do edge type followed and followed by should have the same features?\n",
    "## ? does edge type should have only 1 features for all num_edge(edge_name?) \n",
    "for name, dim in zip(['user', 'item'], [user_feat_dim, item_feat_dim]):\n",
    "    random_feats(name, dim, node = True )\n"
   ]
  },
  {
   "cell_type": "markdown",
   "metadata": {},
   "source": [
    "# Node Classification HeretoGraphConv"
   ]
  },
  {
   "cell_type": "code",
   "execution_count": 19,
   "metadata": {},
   "outputs": [],
   "source": [
    "####### HETEROGRAPHCONV"
   ]
  },
  {
   "cell_type": "code",
   "execution_count": 21,
   "metadata": {},
   "outputs": [],
   "source": [
    "def reset_params(net):\n",
    "    for param in net.parameters():\n",
    "        nn.init.ones_(param)"
   ]
  },
  {
   "cell_type": "code",
   "execution_count": 22,
   "metadata": {},
   "outputs": [],
   "source": [
    "### GRAPTHCONV layer # using built in layer in library\n",
    "he_conv = gnn.HeteroGraphConv(mods = {rel: gnn.GraphConv(num_in, 15) for \n",
    "                                      rel, num_in in zip(g.etypes, [30, 30, 20, 20, 20, 20])},\n",
    "                             aggregate= 'sum')\n",
    "reset_params(he_conv)"
   ]
  },
  {
   "cell_type": "code",
   "execution_count": 23,
   "metadata": {},
   "outputs": [
    {
     "data": {
      "text/plain": [
       "Parameter containing:\n",
       "tensor([[1., 1., 1., 1.],\n",
       "        [1., 1., 1., 1.],\n",
       "        [1., 1., 1., 1.]], requires_grad=True)"
      ]
     },
     "execution_count": 23,
     "metadata": {},
     "output_type": "execute_result"
    }
   ],
   "source": [
    "a = nn.Parameter(torch.Tensor(3, 4))\n",
    "nn.init.ones_(a)\n",
    "a"
   ]
  },
  {
   "cell_type": "code",
   "execution_count": 24,
   "metadata": {},
   "outputs": [
    {
     "data": {
      "text/plain": [
       "dict_keys(['user'])"
      ]
     },
     "execution_count": 24,
     "metadata": {},
     "output_type": "execute_result"
    }
   ],
   "source": [
    "inputs = {'item': g.nodes['item'].data['feats']}\n",
    "a  = he_conv(g, inputs)\n",
    "\n",
    "a.keys()"
   ]
  },
  {
   "cell_type": "code",
   "execution_count": 25,
   "metadata": {},
   "outputs": [],
   "source": [
    "class HeteGraphConv(nn.Module):\n",
    "    def __init__(self, rel_mods):\n",
    "        super().__init__()\n",
    "        self.rel_mods = nn.ModuleDict(rel_mods)\n",
    "    \n",
    "    def forward(self, g, inputs):\n",
    "        outs = {key: [] for key in g.dsttypes}\n",
    "        \n",
    "        for rel, gconv in self.rel_mods.items():\n",
    "            eg = g[rel]\n",
    "            src_name = eg.srctypes[0]\n",
    "            if src_name in inputs.keys():\n",
    "                outs[eg.dsttypes[0]].append(gconv(eg, inputs[eg.srctypes[0]]))\n",
    "        return {key: torch.stack(value, dim = 0).sum(0) for \n",
    "                key, value in outs.items() if len(value) > 0}                    "
   ]
  },
  {
   "cell_type": "code",
   "execution_count": 26,
   "metadata": {},
   "outputs": [],
   "source": [
    "### GRAPTHCONV layer # using built in layer in library\n",
    "he_conv1 = HeteGraphConv(rel_mods = {rel: gnn.GraphConv(num_in, 15, allow_zero_in_degree= True) for \n",
    "                        rel, num_in in zip(g.etypes, [30, 30, 20, 20, 20, 20])})\n",
    "reset_params(he_conv1)"
   ]
  },
  {
   "cell_type": "code",
   "execution_count": 27,
   "metadata": {
    "scrolled": true
   },
   "outputs": [
    {
     "data": {
      "text/plain": [
       "dict_keys(['user'])"
      ]
     },
     "execution_count": 27,
     "metadata": {},
     "output_type": "execute_result"
    }
   ],
   "source": [
    "inputs1 = {'item': g.nodes['item'].data['feats']}\n",
    "a1  = he_conv1(g, inputs)\n",
    "\n",
    "a1.keys()"
   ]
  },
  {
   "cell_type": "code",
   "execution_count": 28,
   "metadata": {
    "scrolled": false
   },
   "outputs": [
    {
     "data": {
      "text/plain": [
       "tensor(True)"
      ]
     },
     "execution_count": 28,
     "metadata": {},
     "output_type": "execute_result"
    }
   ],
   "source": [
    "(a1['user'] == a['user']).all()"
   ]
  },
  {
   "cell_type": "code",
   "execution_count": 411,
   "metadata": {},
   "outputs": [],
   "source": [
    "########### RELGRAPH\n",
    "### rel graph is actually heretographconv with learnable matrix decomposition.\n",
    "# which can be done for each relation at each layer seperately. \n",
    "# And the aggregation of the node itself can be done out side of relational aggregation"
   ]
  },
  {
   "cell_type": "markdown",
   "metadata": {},
   "source": [
    "# Edge classification"
   ]
  },
  {
   "cell_type": "code",
   "execution_count": 41,
   "metadata": {
    "scrolled": true
   },
   "outputs": [
    {
     "data": {
      "text/plain": [
       "Graph(num_nodes={'user': 1000, 'item': 3000},\n",
       "      num_edges={('user', 'click+dislike', 'item'): 17000},\n",
       "      metagraph=[('user', 'item', 'click+dislike')])"
      ]
     },
     "execution_count": 41,
     "metadata": {},
     "output_type": "execute_result"
    }
   ],
   "source": [
    "g1 = g['user', :, 'item']; g1"
   ]
  },
  {
   "cell_type": "code",
   "execution_count": null,
   "metadata": {},
   "outputs": [],
   "source": []
  },
  {
   "cell_type": "code",
   "execution_count": null,
   "metadata": {},
   "outputs": [],
   "source": []
  },
  {
   "cell_type": "code",
   "execution_count": null,
   "metadata": {},
   "outputs": [],
   "source": []
  },
  {
   "cell_type": "markdown",
   "metadata": {},
   "source": [
    "# AIFB dataset - heto as homo"
   ]
  },
  {
   "cell_type": "code",
   "execution_count": 126,
   "metadata": {
    "scrolled": true
   },
   "outputs": [
    {
     "name": "stderr",
     "output_type": "stream",
     "text": [
      "/home/phan.huy.hoang/anaconda3/envs/tambnm36_env/lib/python3.6/importlib/_bootstrap.py:219: RuntimeWarning: numpy.ufunc size changed, may indicate binary incompatibility. Expected 192 from C header, got 216 from PyObject\n",
      "  return f(*args, **kwds)\n"
     ]
    },
    {
     "name": "stdout",
     "output_type": "stream",
     "text": [
      "Downloading /home/phan.huy.hoang/.dgl/aifb.tgz from https://data.dgl.ai/dataset/aifb.tgz...\n",
      "Loading dataset aifb\n",
      "Number of nodes:  8285\n",
      "Number of edges:  66371\n",
      "Number of relations:  91\n",
      "Number of classes:  4\n",
      "removing nodes that are more than 3 hops away\n"
     ]
    }
   ],
   "source": [
    "from dgl.contrib.data import load_data\n",
    "data = load_data('aifb')"
   ]
  },
  {
   "cell_type": "code",
   "execution_count": 152,
   "metadata": {},
   "outputs": [
    {
     "data": {
      "text/plain": [
       "((8285, 1), (65439,), (65439,), 89, 91)"
      ]
     },
     "execution_count": 152,
     "metadata": {},
     "output_type": "execute_result"
    }
   ],
   "source": [
    "# why is num_rels different from num edgetype\n",
    "data.labels.shape, data.edge_dst.shape, data.edge_src.shape, max(data.edge_type)+1, data.num_rels"
   ]
  },
  {
   "cell_type": "code",
   "execution_count": 149,
   "metadata": {},
   "outputs": [
    {
     "data": {
      "text/plain": [
       "array([1.        , 1.        , 1.        , ..., 0.03703704, 0.03703704,\n",
       "       1.        ], dtype=float32)"
      ]
     },
     "execution_count": 149,
     "metadata": {},
     "output_type": "execute_result"
    }
   ],
   "source": [
    "### what is edge norm?\n",
    "data.edge_norm"
   ]
  },
  {
   "cell_type": "code",
   "execution_count": 155,
   "metadata": {},
   "outputs": [],
   "source": [
    "###### CREATE GRAPH\n",
    "g = dgl.graph((data.edge_src, data.edge_dst), )"
   ]
  },
  {
   "cell_type": "code",
   "execution_count": 157,
   "metadata": {},
   "outputs": [
    {
     "data": {
      "text/plain": [
       "<bound method DGLHeteroGraph.num_nodes of Graph(num_nodes=8285, num_edges=65439,\n",
       "      ndata_schemes={}\n",
       "      edata_schemes={})>"
      ]
     },
     "execution_count": 157,
     "metadata": {},
     "output_type": "execute_result"
    }
   ],
   "source": []
  },
  {
   "cell_type": "code",
   "execution_count": null,
   "metadata": {},
   "outputs": [],
   "source": []
  },
  {
   "cell_type": "code",
   "execution_count": null,
   "metadata": {},
   "outputs": [],
   "source": []
  }
 ],
 "metadata": {
  "kernelspec": {
   "display_name": "conda_tambnm36",
   "language": "python",
   "name": "conda_tambnm36"
  },
  "language_info": {
   "codemirror_mode": {
    "name": "ipython",
    "version": 3
   },
   "file_extension": ".py",
   "mimetype": "text/x-python",
   "name": "python",
   "nbconvert_exporter": "python",
   "pygments_lexer": "ipython3",
   "version": "3.6.10"
  }
 },
 "nbformat": 4,
 "nbformat_minor": 4
}
